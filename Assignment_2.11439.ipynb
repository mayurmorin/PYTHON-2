{
 "cells": [
  {
   "cell_type": "markdown",
   "metadata": {},
   "source": [
    "Task 1.1.1: Write a Python Program to implement your own myreduce() function which works exactly like Python's built-in function reduce()"
   ]
  },
  {
   "cell_type": "code",
   "execution_count": 1,
   "metadata": {},
   "outputs": [
    {
     "name": "stdout",
     "output_type": "stream",
     "text": [
      "15\n",
      "15\n"
     ]
    }
   ],
   "source": [
    "import operator\n",
    "def myreduce(function, Data, initial=None):\n",
    "    #function: function(x,y) ; Data    : [a1,a2,a3,...,an] ; initial : Start the Calculation from this Value\n",
    "    \n",
    "    #iterator function can be used to take next values because it provides next functionality\n",
    "    it = iter(Data) \n",
    "\n",
    "    #First Value can be taken from initial parameter or next as mentioned below\n",
    "    if initial is None:\n",
    "        try:\n",
    "            initial = next(it)\n",
    "        except StopIteration:\n",
    "            raise TypeError('reduce() of empty sequence with no initial value')\n",
    "            \n",
    "    #Step 1: function(a1,a2): a1 is always calculated value        \n",
    "    calculated_value = initial\n",
    "    for new_value in it:\n",
    "        #Step 2: Loop for Taking always Calculated Value and passing new Value as x\n",
    "        # function(calculated_value, a2): Here a2 will be replaced by new_value.\n",
    "        calculated_value = function(calculated_value, new_value)\n",
    "    return calculated_value\n",
    "print(myreduce(lambda a,b : a+b,[1,2,3,4,5,]))\n",
    "print(myreduce(operator.add,(1,2,3,4,5)))"
   ]
  },
  {
   "cell_type": "markdown",
   "metadata": {},
   "source": [
    "Task 1.1.2:Write a Python program to implement your own myfilter() function which works exactly like Python's built-in function filter()"
   ]
  },
  {
   "cell_type": "code",
   "execution_count": 2,
   "metadata": {},
   "outputs": [
    {
     "name": "stdout",
     "output_type": "stream",
     "text": [
      "[1, 2, 3, 4, 5, 6]\n",
      "[2, 4, 6]\n"
     ]
    }
   ],
   "source": [
    "def myfilter(functionOrNone, iterable): #filter(function or None, iterable) --> filter object\n",
    "    if functionOrNone is None:\n",
    "        functionOrNone = bool           #If function is None, return the items that are true.\n",
    "    for check_value in iterable:        #Check for each value in Iterable one by one for passing into function \n",
    "        if functionOrNone(check_value): #If condition satify, function returns true \n",
    "            yield check_value           #Yield suspends function’s execution and sends a value back to caller\n",
    "                                    #If the body of a def contains yield, the function automatically becomes a generator function\n",
    "\n",
    "print(list(myfilter(None,[1,2,3,4,5,6])))\n",
    "print(list(myfilter(lambda x:x%2==0,(1,2,3,4,5,6))))"
   ]
  },
  {
   "cell_type": "markdown",
   "metadata": {},
   "source": [
    "Task 1.2: Implement List comprehensions to produce the following lists.\n",
    "Write List comprehensions to produce the following Lists\n",
    "['A', 'C', 'A', 'D', 'G', 'I', ’L’, ‘ D’]\n",
    "['x', 'xx', 'xxx', 'xxxx', 'y', 'yy', 'yyy', 'yyyy', 'z', 'zz', 'zzz', 'zzzz']\n",
    "['x', 'y', 'z', 'xx', 'yy', 'zz', 'xx', 'yy', 'zz', 'xxxx', 'yyyy', 'zzzz']\n",
    "[[2], [3], [4], [3], [4], [5], [4], [5], [6]]\n",
    "[[2, 3, 4, 5], [3, 4, 5, 6], [4, 5, 6, 7], [5, 6, 7, 8]]\n",
    "[(1, 1), (2, 1), (3, 1), (1, 2), (2, 2), (3, 2), (1, 3), (2, 3), (3, 3)]"
   ]
  },
  {
   "cell_type": "code",
   "execution_count": 3,
   "metadata": {},
   "outputs": [
    {
     "name": "stdout",
     "output_type": "stream",
     "text": [
      "['A', 'C', 'A', ' D', 'G', 'I', 'L', ' D']\n",
      "['x', 'xx', 'xxx', 'xxxx', 'y', 'yy', 'yyy', 'yyyy', 'z', 'zz', 'zzz', 'zzzz']\n",
      "['x', 'y', 'z', 'xx', 'yy', 'zz', 'xxx', 'yyy', 'zzz', 'xxxx', 'yyyy', 'zzzz']\n",
      "[[2], [3], [4], [3], [4], [5], [4], [5], [6]]\n",
      "[[2, 3, 4, 5], [3, 4, 5, 6], [4, 5, 6, 7], [5, 6, 7, 8]]\n",
      "[(1, 1), (2, 1), (3, 1), (1, 2), (2, 2), (3, 2), (1, 3), (2, 3), (3, 3)]\n"
     ]
    }
   ],
   "source": [
    "lst1=[' {0}'.format(row) if row=='D' else row for row in 'ACADGILD']\n",
    "print(lst1)\n",
    "lst2=[i*j for i in 'xyz' for j in range(1,5)] #first xyz loop will do string multiplication with range inner loop numbers\n",
    "print(lst2)\n",
    "lst3=[i*j for j in range(1,5) for i in 'xyz'] #first range loop numbers will do string multiply with xyz inner loop string\n",
    "print(lst3)\n",
    "lst4=[[i+j] for j in range(1,4) for i in range(1,4)]  #outer and inner loop with same range with output of [i+j]\n",
    "print(lst4)\n",
    "lst5=[list(range(i, i+4)) for i in range(2,6)]        #loop 2 to 5 and generate list with i+4\n",
    "print(lst5)\n",
    "lst6=[(i,j) for j in range(1,4) for i in range(1,4)]  #inner and outer loop with (i (inner),j (outer))\n",
    "print(lst6)"
   ]
  },
  {
   "cell_type": "markdown",
   "metadata": {},
   "source": [
    "Task 1.3: Implement a function longestWord() that takes a list of words and returns the longest one."
   ]
  },
  {
   "cell_type": "code",
   "execution_count": 4,
   "metadata": {},
   "outputs": [
    {
     "name": "stdout",
     "output_type": "stream",
     "text": [
      "abcd\n",
      "wxyz\n",
      "Pethani\n",
      "assignment\n"
     ]
    }
   ],
   "source": [
    "def longestWord(list_of_words):\n",
    "    k=list(map(lambda x:len(x),list_of_words)) #map returns equivalent words' length in the list format\n",
    "    j=k.index(max(k))                          #getting maximum value from list and also getting index of it\n",
    "    return list_of_words[j]                    #based on index finding the word and returning it\n",
    "    \n",
    "print(longestWord(['a','ab','abc','abcd']))\n",
    "print(longestWord(['wxyz','wxy','wx','w']))\n",
    "print(longestWord(['my','name','is','Mayur','Pethani']))\n",
    "print(longestWord(['This','assignment','is','from','AcadGild']))"
   ]
  },
  {
   "cell_type": "markdown",
   "metadata": {},
   "source": [
    "Task 2.1.1: Write a Python Program(with class concepts) to find the area of the triangle using the below formula.\n",
    "area = (s*(s-a)*(s-b)*(s-c)) ** 0.5 Function to take the length of the sides of triangle from user should be defined in the parent class and function to calculate the area should be defined in subclass."
   ]
  },
  {
   "cell_type": "code",
   "execution_count": 5,
   "metadata": {},
   "outputs": [
    {
     "name": "stdout",
     "output_type": "stream",
     "text": [
      "Enter first side of Triangle : 5\n",
      "Enter second side of Triangle : 6\n",
      "Enter third side of Triangle : 7\n",
      "\n",
      "Triangle:\tFirst Side: 5.0\n",
      "\t\tSecond Side :6.0\n",
      "\t\tThird Side : 7.0\n",
      "\n",
      "Area of Triangle is : 14.70\n"
     ]
    }
   ],
   "source": [
    "class Triangle:\n",
    "    def __init__(self):\n",
    "        self.a = float(input('Enter first side of Triangle : '))\n",
    "        self.b = float(input('Enter second side of Triangle : '))\n",
    "        self.c = float(input('Enter third side of Triangle : '))\n",
    "    def __str__(self):\n",
    "        return  ('\\nTriangle:\\tFirst Side: ' + str(self.a) + '\\n\\t\\tSecond Side :' + str(self.b) + '\\n\\t\\tThird Side : ' + str(self.c))\n",
    "class Area(Triangle):\n",
    "    def __init__(self,param):\n",
    "        self.param=param\n",
    "    def __str__(self):\n",
    "        s = (self.param.a+self.param.b+self.param.c)/2\n",
    "        area = (s*(s-self.param.a)*(s-self.param.b)*(s-self.param.c)) ** 0.5\n",
    "        return \"\\nArea of Triangle is : %0.2f\" %area\n",
    "t=Triangle()\n",
    "print(t)\n",
    "a=Area(t)\n",
    "print(a)"
   ]
  },
  {
   "cell_type": "markdown",
   "metadata": {},
   "source": [
    "Task 2.1.2: Write a function filter_long_words() that takes a list of words and an integer n and returns the list\n",
    "of words that are longer than n"
   ]
  },
  {
   "cell_type": "code",
   "execution_count": 6,
   "metadata": {},
   "outputs": [
    {
     "name": "stdout",
     "output_type": "stream",
     "text": [
      "['abc', 'dadfasdf']\n",
      "['abcd']\n",
      "[]\n",
      "['Pethani']\n",
      "['assignment', 'AcadGild']\n"
     ]
    }
   ],
   "source": [
    "def filter_long_words(list_of_words,n):\n",
    "    l=list()\n",
    "    for words in list_of_words:\n",
    "        if len(words) > n:\n",
    "            l.append(words)\n",
    "    return l\n",
    "print(filter_long_words(['abc','dadfasdf','a','aa'],2))\n",
    "print(filter_long_words(['a','ab','abc','abcd'],3))\n",
    "print(filter_long_words(['wxyz','wxy','wx','w'],4))\n",
    "print(filter_long_words(['my','name','is','Mayur','Pethani'],5))\n",
    "print(filter_long_words(['This','assignment','is','from','AcadGild'],6))"
   ]
  },
  {
   "cell_type": "markdown",
   "metadata": {},
   "source": [
    "Task 2.2.1 : Write a Python program using function concept that maps list of words into a list of integers\n",
    "representing the lengths of the corresponding words.\n",
    "Hint: ​If a list [ ab,cde,erty] is passed on to the python function output should come as [2,3,4]\n",
    "Here 2,3 and 4 are the lengths of the words in the list."
   ]
  },
  {
   "cell_type": "code",
   "execution_count": 7,
   "metadata": {},
   "outputs": [
    {
     "data": {
      "text/plain": [
       "[2, 3, 4]"
      ]
     },
     "execution_count": 7,
     "metadata": {},
     "output_type": "execute_result"
    }
   ],
   "source": [
    "def giveLen(lst):\n",
    "    return [len(row) for row in lst] #Example of list comprehension\n",
    "lst=['ab','cde','erty']\n",
    "Final_lst=giveLen(lst)\n",
    "Final_lst"
   ]
  },
  {
   "cell_type": "markdown",
   "metadata": {},
   "source": [
    "Task 2.2.2 : Write a Python function which takes a character (i.e. a string of length 1) and returns True if it is\n",
    "a vowel, False otherwise."
   ]
  },
  {
   "cell_type": "code",
   "execution_count": 8,
   "metadata": {},
   "outputs": [],
   "source": [
    "def IsVowel(char):\n",
    "    if(len(char)==1):\n",
    "        if(char.lower() in 'aeiou'):\n",
    "            return True\n",
    "        else:\n",
    "            return False\n",
    "    else:\n",
    "        return False\n",
    "    \n",
    "    \n",
    "    \n",
    "    \n",
    "    \n",
    "    \n",
    "    "
   ]
  },
  {
   "cell_type": "code",
   "execution_count": 9,
   "metadata": {},
   "outputs": [
    {
     "data": {
      "text/plain": [
       "True"
      ]
     },
     "execution_count": 9,
     "metadata": {},
     "output_type": "execute_result"
    }
   ],
   "source": [
    "IsVowel('a')"
   ]
  }
 ],
 "metadata": {
  "kernelspec": {
   "display_name": "Python 3",
   "language": "python",
   "name": "python3"
  },
  "language_info": {
   "codemirror_mode": {
    "name": "ipython",
    "version": 3
   },
   "file_extension": ".py",
   "mimetype": "text/x-python",
   "name": "python",
   "nbconvert_exporter": "python",
   "pygments_lexer": "ipython3",
   "version": "3.6.5"
  }
 },
 "nbformat": 4,
 "nbformat_minor": 2
}
